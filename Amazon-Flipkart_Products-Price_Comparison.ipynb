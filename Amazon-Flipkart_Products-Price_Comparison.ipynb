{
 "cells": [
  {
   "cell_type": "markdown",
   "id": "44047f07",
   "metadata": {},
   "source": [
    "# Importing Libraries"
   ]
  },
  {
   "cell_type": "code",
   "execution_count": 121,
   "id": "01010aed",
   "metadata": {},
   "outputs": [],
   "source": [
    "import pandas as pd\n",
    "import numpy as np\n",
    "from sentence_transformers import SentenceTransformer\n",
    "import datetime\n",
    "from sklearn.metrics.pairwise import cosine_similarity"
   ]
  },
  {
   "cell_type": "markdown",
   "id": "6413935e",
   "metadata": {},
   "source": [
    "# Importing the datasets"
   ]
  },
  {
   "cell_type": "code",
   "execution_count": 122,
   "id": "e1be97f5",
   "metadata": {},
   "outputs": [],
   "source": [
    "df1_flipkart = pd.read_csv(\"flipkart_com-ecommerce_sample.csv\")"
   ]
  },
  {
   "cell_type": "code",
   "execution_count": 123,
   "id": "d9878a63",
   "metadata": {},
   "outputs": [],
   "source": [
    "df2_amazon = pd.read_csv(\"amz_com-ecommerce_sample.csv\",encoding = 'latin')"
   ]
  },
  {
   "cell_type": "markdown",
   "id": "44c7958f",
   "metadata": {},
   "source": [
    "##### Feature Engineering "
   ]
  },
  {
   "cell_type": "code",
   "execution_count": 124,
   "id": "326131b9",
   "metadata": {},
   "outputs": [],
   "source": [
    "df2_amazon.drop(['uniq_id','product_url','image','is_FK_Advantage_product','product_rating','overall_rating','product_specifications'],axis = 1,inplace = True)"
   ]
  },
  {
   "cell_type": "code",
   "execution_count": 125,
   "id": "84afd4b1",
   "metadata": {},
   "outputs": [],
   "source": [
    "df1_flipkart.drop(['uniq_id','product_url','image','is_FK_Advantage_product','product_rating','overall_rating','product_specifications'],axis = 1,inplace = True)"
   ]
  },
  {
   "cell_type": "code",
   "execution_count": 126,
   "id": "6c1d6c07",
   "metadata": {},
   "outputs": [
    {
     "data": {
      "text/html": [
       "<div>\n",
       "<style scoped>\n",
       "    .dataframe tbody tr th:only-of-type {\n",
       "        vertical-align: middle;\n",
       "    }\n",
       "\n",
       "    .dataframe tbody tr th {\n",
       "        vertical-align: top;\n",
       "    }\n",
       "\n",
       "    .dataframe thead th {\n",
       "        text-align: right;\n",
       "    }\n",
       "</style>\n",
       "<table border=\"1\" class=\"dataframe\">\n",
       "  <thead>\n",
       "    <tr style=\"text-align: right;\">\n",
       "      <th></th>\n",
       "      <th>crawl_timestamp</th>\n",
       "      <th>product_name</th>\n",
       "      <th>product_category_tree</th>\n",
       "      <th>pid</th>\n",
       "      <th>retail_price</th>\n",
       "      <th>discounted_price</th>\n",
       "      <th>description</th>\n",
       "      <th>brand</th>\n",
       "    </tr>\n",
       "  </thead>\n",
       "  <tbody>\n",
       "    <tr>\n",
       "      <th>0</th>\n",
       "      <td>2016-03-25 22:59:23 +0000</td>\n",
       "      <td>Alisha Solid Women's Cycling Shorts</td>\n",
       "      <td>[\"Clothing &gt;&gt; Women's Clothing &gt;&gt; Lingerie, Sl...</td>\n",
       "      <td>SRTEH2FF9KEDEFGF</td>\n",
       "      <td>999.0</td>\n",
       "      <td>379.0</td>\n",
       "      <td>Key Features of Alisha Solid Women's Cycling S...</td>\n",
       "      <td>Alisha</td>\n",
       "    </tr>\n",
       "  </tbody>\n",
       "</table>\n",
       "</div>"
      ],
      "text/plain": [
       "             crawl_timestamp                         product_name  \\\n",
       "0  2016-03-25 22:59:23 +0000  Alisha Solid Women's Cycling Shorts   \n",
       "\n",
       "                               product_category_tree               pid  \\\n",
       "0  [\"Clothing >> Women's Clothing >> Lingerie, Sl...  SRTEH2FF9KEDEFGF   \n",
       "\n",
       "   retail_price  discounted_price  \\\n",
       "0         999.0             379.0   \n",
       "\n",
       "                                         description   brand  \n",
       "0  Key Features of Alisha Solid Women's Cycling S...  Alisha  "
      ]
     },
     "execution_count": 126,
     "metadata": {},
     "output_type": "execute_result"
    }
   ],
   "source": [
    "df1_flipkart.head(1)"
   ]
  },
  {
   "cell_type": "code",
   "execution_count": 127,
   "id": "bdb9ba3c",
   "metadata": {},
   "outputs": [
    {
     "data": {
      "text/html": [
       "<div>\n",
       "<style scoped>\n",
       "    .dataframe tbody tr th:only-of-type {\n",
       "        vertical-align: middle;\n",
       "    }\n",
       "\n",
       "    .dataframe tbody tr th {\n",
       "        vertical-align: top;\n",
       "    }\n",
       "\n",
       "    .dataframe thead th {\n",
       "        text-align: right;\n",
       "    }\n",
       "</style>\n",
       "<table border=\"1\" class=\"dataframe\">\n",
       "  <thead>\n",
       "    <tr style=\"text-align: right;\">\n",
       "      <th></th>\n",
       "      <th>crawl_timestamp</th>\n",
       "      <th>product_name</th>\n",
       "      <th>product_category_tree</th>\n",
       "      <th>pid</th>\n",
       "      <th>retail_price</th>\n",
       "      <th>discounted_price</th>\n",
       "      <th>description</th>\n",
       "      <th>brand</th>\n",
       "    </tr>\n",
       "  </thead>\n",
       "  <tbody>\n",
       "    <tr>\n",
       "      <th>0</th>\n",
       "      <td>2016-03-25 22:59:23 +0000</td>\n",
       "      <td>Alisha Solid Women's Cycling Shorts</td>\n",
       "      <td>[\"Clothing &gt;&gt; Women's Clothing &gt;&gt; Lingerie, Sl...</td>\n",
       "      <td>SRTEH2FF9KEDEFGF</td>\n",
       "      <td>982</td>\n",
       "      <td>438</td>\n",
       "      <td>Key Features of Alisha Solid Women's Cycling S...</td>\n",
       "      <td>Alisha</td>\n",
       "    </tr>\n",
       "  </tbody>\n",
       "</table>\n",
       "</div>"
      ],
      "text/plain": [
       "             crawl_timestamp                         product_name  \\\n",
       "0  2016-03-25 22:59:23 +0000  Alisha Solid Women's Cycling Shorts   \n",
       "\n",
       "                               product_category_tree               pid  \\\n",
       "0  [\"Clothing >> Women's Clothing >> Lingerie, Sl...  SRTEH2FF9KEDEFGF   \n",
       "\n",
       "   retail_price  discounted_price  \\\n",
       "0           982               438   \n",
       "\n",
       "                                         description   brand  \n",
       "0  Key Features of Alisha Solid Women's Cycling S...  Alisha  "
      ]
     },
     "execution_count": 127,
     "metadata": {},
     "output_type": "execute_result"
    }
   ],
   "source": [
    "df2_amazon.head(1)"
   ]
  },
  {
   "cell_type": "markdown",
   "id": "fb064105",
   "metadata": {},
   "source": [
    "#### Extracting the date and time "
   ]
  },
  {
   "cell_type": "code",
   "execution_count": 128,
   "id": "16a59d3c",
   "metadata": {},
   "outputs": [],
   "source": [
    "df2_time = []\n",
    "for i in df2_amazon['crawl_timestamp']:\n",
    "    df2_time.append(i)"
   ]
  },
  {
   "cell_type": "code",
   "execution_count": 129,
   "id": "6c80912e",
   "metadata": {},
   "outputs": [],
   "source": [
    "df1_time = []\n",
    "for i in df1_flipkart['crawl_timestamp']:\n",
    "    df1_time.append(i)"
   ]
  },
  {
   "cell_type": "code",
   "execution_count": 130,
   "id": "3ad559b4",
   "metadata": {},
   "outputs": [],
   "source": [
    "df2_year = []\n",
    "df2_month = []\n",
    "df2_day = []\n",
    "df2_hour = []\n",
    "df2_minute = []\n",
    "df2_second = []"
   ]
  },
  {
   "cell_type": "code",
   "execution_count": 131,
   "id": "307e36eb",
   "metadata": {},
   "outputs": [],
   "source": [
    "df1_year = []\n",
    "df1_month = []\n",
    "df1_day = []\n",
    "df1_hour = []\n",
    "df1_minute = []\n",
    "df1_second = []"
   ]
  },
  {
   "cell_type": "code",
   "execution_count": 132,
   "id": "5d97f0d9",
   "metadata": {},
   "outputs": [],
   "source": [
    "for i in df1_time:\n",
    "    s = i[:-6]\n",
    "    d = datetime.datetime.strptime(s, \"%Y-%m-%d %H:%M:%S\")\n",
    "    df1_year.append(d.year)\n",
    "    df1_month.append(d.month)\n",
    "    df1_day.append(d.day)\n",
    "    df1_hour.append(d.hour)\n",
    "    df1_minute.append(d.minute)\n",
    "    df1_second.append(d.second)"
   ]
  },
  {
   "cell_type": "code",
   "execution_count": 133,
   "id": "8f744567",
   "metadata": {},
   "outputs": [],
   "source": [
    "for i in df2_time:\n",
    "    s = i[:-6]\n",
    "    d = datetime.datetime.strptime(s, \"%Y-%m-%d %H:%M:%S\")\n",
    "    df2_year.append(d.year)\n",
    "    df2_month.append(d.month)\n",
    "    df2_day.append(d.day)\n",
    "    df2_hour.append(d.hour)\n",
    "    df2_minute.append(d.minute)\n",
    "    df2_second.append(d.second)"
   ]
  },
  {
   "cell_type": "code",
   "execution_count": 134,
   "id": "02a2342a",
   "metadata": {},
   "outputs": [
    {
     "data": {
      "text/html": [
       "<div>\n",
       "<style scoped>\n",
       "    .dataframe tbody tr th:only-of-type {\n",
       "        vertical-align: middle;\n",
       "    }\n",
       "\n",
       "    .dataframe tbody tr th {\n",
       "        vertical-align: top;\n",
       "    }\n",
       "\n",
       "    .dataframe thead th {\n",
       "        text-align: right;\n",
       "    }\n",
       "</style>\n",
       "<table border=\"1\" class=\"dataframe\">\n",
       "  <thead>\n",
       "    <tr style=\"text-align: right;\">\n",
       "      <th></th>\n",
       "      <th>crawl_timestamp</th>\n",
       "      <th>product_name</th>\n",
       "      <th>product_category_tree</th>\n",
       "      <th>pid</th>\n",
       "      <th>retail_price</th>\n",
       "      <th>discounted_price</th>\n",
       "      <th>description</th>\n",
       "      <th>brand</th>\n",
       "    </tr>\n",
       "  </thead>\n",
       "  <tbody>\n",
       "    <tr>\n",
       "      <th>0</th>\n",
       "      <td>2016-03-25 22:59:23 +0000</td>\n",
       "      <td>Alisha Solid Women's Cycling Shorts</td>\n",
       "      <td>[\"Clothing &gt;&gt; Women's Clothing &gt;&gt; Lingerie, Sl...</td>\n",
       "      <td>SRTEH2FF9KEDEFGF</td>\n",
       "      <td>999.0</td>\n",
       "      <td>379.0</td>\n",
       "      <td>Key Features of Alisha Solid Women's Cycling S...</td>\n",
       "      <td>Alisha</td>\n",
       "    </tr>\n",
       "  </tbody>\n",
       "</table>\n",
       "</div>"
      ],
      "text/plain": [
       "             crawl_timestamp                         product_name  \\\n",
       "0  2016-03-25 22:59:23 +0000  Alisha Solid Women's Cycling Shorts   \n",
       "\n",
       "                               product_category_tree               pid  \\\n",
       "0  [\"Clothing >> Women's Clothing >> Lingerie, Sl...  SRTEH2FF9KEDEFGF   \n",
       "\n",
       "   retail_price  discounted_price  \\\n",
       "0         999.0             379.0   \n",
       "\n",
       "                                         description   brand  \n",
       "0  Key Features of Alisha Solid Women's Cycling S...  Alisha  "
      ]
     },
     "execution_count": 134,
     "metadata": {},
     "output_type": "execute_result"
    }
   ],
   "source": [
    "df1_flipkart.head(1)"
   ]
  },
  {
   "cell_type": "markdown",
   "id": "7b35176a",
   "metadata": {},
   "source": [
    "###### Adding the date and time as a new column"
   ]
  },
  {
   "cell_type": "code",
   "execution_count": 135,
   "id": "b91c1b0b",
   "metadata": {},
   "outputs": [],
   "source": [
    "df1_flipkart['year'] = pd.DataFrame(df1_year)\n",
    "df1_flipkart['month'] =  pd.DataFrame(df1_month)\n",
    "df1_flipkart['day'] = pd.DataFrame(df1_day)\n",
    "df1_flipkart['hour']  = pd.DataFrame(df1_hour)\n",
    "df1_flipkart['minute'] = pd.DataFrame(df1_minute)\n",
    "df1_flipkart['second'] = pd.DataFrame(df1_second)"
   ]
  },
  {
   "cell_type": "code",
   "execution_count": 136,
   "id": "cb9fe019",
   "metadata": {},
   "outputs": [],
   "source": [
    "df2_amazon['year'] = pd.DataFrame(df2_year)\n",
    "df2_amazon['month'] =  pd.DataFrame(df2_month)\n",
    "df2_amazon['day'] = pd.DataFrame(df2_day)\n",
    "df2_amazon['hour']  = pd.DataFrame(df2_hour)\n",
    "df2_amazon['minute'] = pd.DataFrame(df2_minute)\n",
    "df2_amazon['second'] = pd.DataFrame(df2_second)"
   ]
  },
  {
   "cell_type": "code",
   "execution_count": 137,
   "id": "d187cbac",
   "metadata": {},
   "outputs": [
    {
     "data": {
      "text/html": [
       "<div>\n",
       "<style scoped>\n",
       "    .dataframe tbody tr th:only-of-type {\n",
       "        vertical-align: middle;\n",
       "    }\n",
       "\n",
       "    .dataframe tbody tr th {\n",
       "        vertical-align: top;\n",
       "    }\n",
       "\n",
       "    .dataframe thead th {\n",
       "        text-align: right;\n",
       "    }\n",
       "</style>\n",
       "<table border=\"1\" class=\"dataframe\">\n",
       "  <thead>\n",
       "    <tr style=\"text-align: right;\">\n",
       "      <th></th>\n",
       "      <th>crawl_timestamp</th>\n",
       "      <th>product_name</th>\n",
       "      <th>product_category_tree</th>\n",
       "      <th>pid</th>\n",
       "      <th>retail_price</th>\n",
       "      <th>discounted_price</th>\n",
       "      <th>description</th>\n",
       "      <th>brand</th>\n",
       "      <th>year</th>\n",
       "      <th>month</th>\n",
       "      <th>day</th>\n",
       "      <th>hour</th>\n",
       "      <th>minute</th>\n",
       "      <th>second</th>\n",
       "    </tr>\n",
       "  </thead>\n",
       "  <tbody>\n",
       "    <tr>\n",
       "      <th>0</th>\n",
       "      <td>2016-03-25 22:59:23 +0000</td>\n",
       "      <td>Alisha Solid Women's Cycling Shorts</td>\n",
       "      <td>[\"Clothing &gt;&gt; Women's Clothing &gt;&gt; Lingerie, Sl...</td>\n",
       "      <td>SRTEH2FF9KEDEFGF</td>\n",
       "      <td>999.0</td>\n",
       "      <td>379.0</td>\n",
       "      <td>Key Features of Alisha Solid Women's Cycling S...</td>\n",
       "      <td>Alisha</td>\n",
       "      <td>2016</td>\n",
       "      <td>3</td>\n",
       "      <td>25</td>\n",
       "      <td>22</td>\n",
       "      <td>59</td>\n",
       "      <td>23</td>\n",
       "    </tr>\n",
       "  </tbody>\n",
       "</table>\n",
       "</div>"
      ],
      "text/plain": [
       "             crawl_timestamp                         product_name  \\\n",
       "0  2016-03-25 22:59:23 +0000  Alisha Solid Women's Cycling Shorts   \n",
       "\n",
       "                               product_category_tree               pid  \\\n",
       "0  [\"Clothing >> Women's Clothing >> Lingerie, Sl...  SRTEH2FF9KEDEFGF   \n",
       "\n",
       "   retail_price  discounted_price  \\\n",
       "0         999.0             379.0   \n",
       "\n",
       "                                         description   brand  year  month  \\\n",
       "0  Key Features of Alisha Solid Women's Cycling S...  Alisha  2016      3   \n",
       "\n",
       "   day  hour  minute  second  \n",
       "0   25    22      59      23  "
      ]
     },
     "execution_count": 137,
     "metadata": {},
     "output_type": "execute_result"
    }
   ],
   "source": [
    "df1_flipkart.head(1)"
   ]
  },
  {
   "cell_type": "code",
   "execution_count": 138,
   "id": "3d60fbd3",
   "metadata": {},
   "outputs": [
    {
     "data": {
      "text/html": [
       "<div>\n",
       "<style scoped>\n",
       "    .dataframe tbody tr th:only-of-type {\n",
       "        vertical-align: middle;\n",
       "    }\n",
       "\n",
       "    .dataframe tbody tr th {\n",
       "        vertical-align: top;\n",
       "    }\n",
       "\n",
       "    .dataframe thead th {\n",
       "        text-align: right;\n",
       "    }\n",
       "</style>\n",
       "<table border=\"1\" class=\"dataframe\">\n",
       "  <thead>\n",
       "    <tr style=\"text-align: right;\">\n",
       "      <th></th>\n",
       "      <th>crawl_timestamp</th>\n",
       "      <th>product_name</th>\n",
       "      <th>product_category_tree</th>\n",
       "      <th>pid</th>\n",
       "      <th>retail_price</th>\n",
       "      <th>discounted_price</th>\n",
       "      <th>description</th>\n",
       "      <th>brand</th>\n",
       "      <th>year</th>\n",
       "      <th>month</th>\n",
       "      <th>day</th>\n",
       "      <th>hour</th>\n",
       "      <th>minute</th>\n",
       "      <th>second</th>\n",
       "    </tr>\n",
       "  </thead>\n",
       "  <tbody>\n",
       "    <tr>\n",
       "      <th>0</th>\n",
       "      <td>2016-03-25 22:59:23 +0000</td>\n",
       "      <td>Alisha Solid Women's Cycling Shorts</td>\n",
       "      <td>[\"Clothing &gt;&gt; Women's Clothing &gt;&gt; Lingerie, Sl...</td>\n",
       "      <td>SRTEH2FF9KEDEFGF</td>\n",
       "      <td>982</td>\n",
       "      <td>438</td>\n",
       "      <td>Key Features of Alisha Solid Women's Cycling S...</td>\n",
       "      <td>Alisha</td>\n",
       "      <td>2016</td>\n",
       "      <td>3</td>\n",
       "      <td>25</td>\n",
       "      <td>22</td>\n",
       "      <td>59</td>\n",
       "      <td>23</td>\n",
       "    </tr>\n",
       "  </tbody>\n",
       "</table>\n",
       "</div>"
      ],
      "text/plain": [
       "             crawl_timestamp                         product_name  \\\n",
       "0  2016-03-25 22:59:23 +0000  Alisha Solid Women's Cycling Shorts   \n",
       "\n",
       "                               product_category_tree               pid  \\\n",
       "0  [\"Clothing >> Women's Clothing >> Lingerie, Sl...  SRTEH2FF9KEDEFGF   \n",
       "\n",
       "   retail_price  discounted_price  \\\n",
       "0           982               438   \n",
       "\n",
       "                                         description   brand  year  month  \\\n",
       "0  Key Features of Alisha Solid Women's Cycling S...  Alisha  2016      3   \n",
       "\n",
       "   day  hour  minute  second  \n",
       "0   25    22      59      23  "
      ]
     },
     "execution_count": 138,
     "metadata": {},
     "output_type": "execute_result"
    }
   ],
   "source": [
    "df2_amazon.head(1)"
   ]
  },
  {
   "cell_type": "markdown",
   "id": "032e9cfe",
   "metadata": {},
   "source": [
    "###### Feature Engineering"
   ]
  },
  {
   "cell_type": "code",
   "execution_count": 139,
   "id": "1a686168",
   "metadata": {},
   "outputs": [],
   "source": [
    "df2_amazon.drop(['crawl_timestamp'],axis = 1,inplace = True)"
   ]
  },
  {
   "cell_type": "code",
   "execution_count": 140,
   "id": "f4d9459f",
   "metadata": {},
   "outputs": [],
   "source": [
    "df1_flipkart.drop(['crawl_timestamp'],axis = 1,inplace = True)"
   ]
  },
  {
   "cell_type": "markdown",
   "id": "5e0f8f40",
   "metadata": {},
   "source": [
    "###### Importing the pretrained Sentence Transformenr model"
   ]
  },
  {
   "cell_type": "code",
   "execution_count": 141,
   "id": "38d7cdd6",
   "metadata": {},
   "outputs": [],
   "source": [
    "model = SentenceTransformer(\"nli-distilroberta-base-v2\")"
   ]
  },
  {
   "cell_type": "markdown",
   "id": "4e993ec5",
   "metadata": {},
   "source": [
    "###### Creating some useful functions so that we can use it again and again"
   ]
  },
  {
   "cell_type": "code",
   "execution_count": 142,
   "id": "3df5a609",
   "metadata": {},
   "outputs": [],
   "source": [
    "def choosing_similar_products(prd_name):\n",
    "    sentences = []\n",
    "    index = []\n",
    "    to_compare = [prd_name]\n",
    "    for i in range(len(df2_amazon['product_name'])):\n",
    "        try:\n",
    "            if df2_amazon['product_name'][i][:2] == to_compare[0][:2]:\n",
    "                index.append(i)\n",
    "                sentences.append(df2_amazon['product_name'][i])\n",
    "        except:\n",
    "            pass\n",
    "    return [sentences,index,to_compare]"
   ]
  },
  {
   "cell_type": "code",
   "execution_count": 143,
   "id": "91561630",
   "metadata": {},
   "outputs": [],
   "source": [
    "def encoding(to_compare,sentences,prd_name):\n",
    "    sentences  = to_compare + sentences\n",
    "    sentence_embeddings = model.encode(sentences)\n",
    "    cos = cosine_similarity([sentence_embeddings[0]],sentence_embeddings[1:]).flatten()\n",
    "    cos  = cos.tolist()\n",
    "    df_new = pd.DataFrame({\"Sentence\":sentences[1:],\"Similarity_Score\":cos})\n",
    "    r = df_new[df_new['Sentence'] == prd_name]\n",
    "    return r"
   ]
  },
  {
   "cell_type": "code",
   "execution_count": 144,
   "id": "ec921567",
   "metadata": {},
   "outputs": [],
   "source": [
    "def filtering_amazon(r,index):\n",
    "    dic_amazon = {'Product name in Amazon':[],'Retail Price in Amazon':[],'Discounted Price in Amazon':[]}\n",
    "    for i in index[0:len(r)]:\n",
    "        for j in df2_amazon['product_name']:\n",
    "            dic_amazon[\"Product name in Amazon\"].append(df2_amazon['product_name'][i])\n",
    "            break\n",
    "        for k in df2_amazon['retail_price']:\n",
    "            dic_amazon['Retail Price in Amazon'].append(df2_amazon['retail_price'][i])\n",
    "            break\n",
    "        for u in df2_amazon['discounted_price']:\n",
    "            dic_amazon['Discounted Price in Amazon'].append(df2_amazon['discounted_price'][i])\n",
    "            break\n",
    "    return dic_amazon"
   ]
  },
  {
   "cell_type": "code",
   "execution_count": 145,
   "id": "83fa1a68",
   "metadata": {},
   "outputs": [],
   "source": [
    "def filtering_flipkart(r,index):\n",
    "    dic_flipkart = {'Product name in Flipkart':[],'Retail Price in Flipkart':[],'Discounted Price in Flipkart':[]}\n",
    "    for i in index[0:len(r)]:\n",
    "        for j in df1_flipkart['product_name']:\n",
    "            dic_flipkart[\"Product name in Flipkart\"].append(df1_flipkart['product_name'][i])\n",
    "            break\n",
    "        for k in df1_flipkart['retail_price']:\n",
    "            dic_flipkart['Retail Price in Flipkart'].append(df1_flipkart['retail_price'][i])\n",
    "            break\n",
    "        for u in df1_flipkart['discounted_price']:\n",
    "            dic_flipkart['Discounted Price in Flipkart'].append(df1_flipkart['discounted_price'][i])\n",
    "            break\n",
    "    return dic_flipkart"
   ]
  },
  {
   "cell_type": "markdown",
   "id": "a05b989b",
   "metadata": {},
   "source": [
    "#  Building a predictive system"
   ]
  },
  {
   "cell_type": "code",
   "execution_count": 152,
   "id": "71582f8b",
   "metadata": {},
   "outputs": [],
   "source": [
    "def predict():\n",
    "    # take input\n",
    "    print(\"Type the product name you want to compare:\")\n",
    "    print(\"Note: Type the product name from amazon dataset\")\n",
    "    prd_name = input()\n",
    "    \n",
    "    # Using the above created \"choosing_similar_products\" function to get the similar products,\n",
    "    # index of those similar products \n",
    "\n",
    "    sentences,index,to_compare = choosing_similar_products(prd_name)\n",
    "    \n",
    "    # the below code will compare the similarity of the input product with other products using cosine similarity\n",
    "    # and return a new dataframe \"r\" which will be having the similar products\n",
    "    \n",
    "    r = encoding(to_compare,sentences,prd_name)\n",
    "    \n",
    "    \n",
    "    # The below code line will return a dictionary which will be containg the product name , retail price and discount \n",
    "    # from the amazon dataset for the respective product\n",
    "    \n",
    "    dic_amazon = filtering_amazon(r,index)\n",
    "    \n",
    "    # The below code line will return a dictionary which will be containg the product name , retail price and discount \n",
    "    # from the flipkart dataset for the respective product\n",
    "    \n",
    "    dic_flipkart = filtering_flipkart(r,index)\n",
    "    \n",
    "    # The below code will create a dataframe for the dic_flipkart \n",
    "    \n",
    "    final_df_flipkart = pd.DataFrame(dic_flipkart)\n",
    "    \n",
    "    # The below code will create a dataframe for the dic_amazon \n",
    "    \n",
    "    final_df_amazon = pd.DataFrame(dic_amazon)\n",
    "    \n",
    "    # the below code line will concat the final_df_flipkart and final_df_amazon dataframes and store it in the result variable\n",
    "    \n",
    "    result = pd.concat([final_df_flipkart, final_df_amazon], axis=1, join='inner')\n",
    "    \n",
    "    # the final  output as required in the problem statement \n",
    "    return result"
   ]
  },
  {
   "cell_type": "code",
   "execution_count": 153,
   "id": "f70af77f",
   "metadata": {},
   "outputs": [
    {
     "name": "stdout",
     "output_type": "stream",
     "text": [
      "Type the product name you want to compare:\n",
      "Note: Type the product name from amazon dataset\n",
      "FDT WOMEN'S Leggings Pants\n"
     ]
    },
    {
     "data": {
      "text/html": [
       "<div>\n",
       "<style scoped>\n",
       "    .dataframe tbody tr th:only-of-type {\n",
       "        vertical-align: middle;\n",
       "    }\n",
       "\n",
       "    .dataframe tbody tr th {\n",
       "        vertical-align: top;\n",
       "    }\n",
       "\n",
       "    .dataframe thead th {\n",
       "        text-align: right;\n",
       "    }\n",
       "</style>\n",
       "<table border=\"1\" class=\"dataframe\">\n",
       "  <thead>\n",
       "    <tr style=\"text-align: right;\">\n",
       "      <th></th>\n",
       "      <th>Product name in Flipkart</th>\n",
       "      <th>Retail Price in Flipkart</th>\n",
       "      <th>Discounted Price in Flipkart</th>\n",
       "      <th>Product name in Amazon</th>\n",
       "      <th>Retail Price in Amazon</th>\n",
       "      <th>Discounted Price in Amazon</th>\n",
       "    </tr>\n",
       "  </thead>\n",
       "  <tbody>\n",
       "    <tr>\n",
       "      <th>0</th>\n",
       "      <td>FDT Women's Leggings</td>\n",
       "      <td>699.0</td>\n",
       "      <td>309.0</td>\n",
       "      <td>FDT WOMEN'S Leggings Pants</td>\n",
       "      <td>698</td>\n",
       "      <td>362</td>\n",
       "    </tr>\n",
       "  </tbody>\n",
       "</table>\n",
       "</div>"
      ],
      "text/plain": [
       "  Product name in Flipkart  Retail Price in Flipkart  \\\n",
       "0     FDT Women's Leggings                     699.0   \n",
       "\n",
       "   Discounted Price in Flipkart      Product name in Amazon  \\\n",
       "0                         309.0  FDT WOMEN'S Leggings Pants   \n",
       "\n",
       "   Retail Price in Amazon  Discounted Price in Amazon  \n",
       "0                     698                         362  "
      ]
     },
     "execution_count": 153,
     "metadata": {},
     "output_type": "execute_result"
    }
   ],
   "source": [
    "predict()"
   ]
  },
  {
   "cell_type": "code",
   "execution_count": null,
   "id": "abfc7dd4",
   "metadata": {},
   "outputs": [],
   "source": []
  },
  {
   "cell_type": "code",
   "execution_count": null,
   "id": "123f8999",
   "metadata": {},
   "outputs": [],
   "source": []
  },
  {
   "cell_type": "markdown",
   "id": "4ee8d136",
   "metadata": {},
   "source": [
    "# Project completed by - Swetanshu Pandey"
   ]
  },
  {
   "cell_type": "code",
   "execution_count": null,
   "id": "1a308755",
   "metadata": {},
   "outputs": [],
   "source": []
  }
 ],
 "metadata": {
  "kernelspec": {
   "display_name": "Python 3 (ipykernel)",
   "language": "python",
   "name": "python3"
  },
  "language_info": {
   "codemirror_mode": {
    "name": "ipython",
    "version": 3
   },
   "file_extension": ".py",
   "mimetype": "text/x-python",
   "name": "python",
   "nbconvert_exporter": "python",
   "pygments_lexer": "ipython3",
   "version": "3.9.12"
  }
 },
 "nbformat": 4,
 "nbformat_minor": 5
}
