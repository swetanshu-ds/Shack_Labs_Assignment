{
 "cells": [
  {
   "cell_type": "markdown",
   "id": "43ca597c",
   "metadata": {},
   "source": [
    "# Import Libraries"
   ]
  },
  {
   "cell_type": "code",
   "execution_count": null,
   "id": "fbb2e2a9",
   "metadata": {},
   "outputs": [],
   "source": [
    "import pandas as pd\n",
    "import matplotlib.pyplot as plt\n",
    "import seaborn as sns\n",
    "import numpy as np \n",
    "import pandas as pd \n",
    "from sklearn.preprocessing import LabelEncoder\n",
    "from scipy import stats\n",
    "from scipy.stats import norm, skew\n",
    "from sklearn.model_selection import train_test_split, GridSearchCV\n",
    "from sklearn.linear_model import LinearRegression\n",
    "from sklearn.metrics import r2_score,accuracy_score\n",
    "from sklearn.metrics import mean_squared_error\n",
    "from sklearn.metrics import mean_absolute_error\n",
    "from sklearn import svm\n",
    "from sklearn.svm import SVC\n",
    "from sklearn.metrics import mean_absolute_percentage_error\n",
    "from sklearn.linear_model import LinearRegression\n",
    "from sklearn.ensemble import RandomForestRegressor\n",
    "from xgboost import XGBRegressor\n",
    "from sklearn.tree import DecisionTreeRegressor\n",
    "from sklearn.model_selection import cross_val_score\n",
    "from sklearn.ensemble import GradientBoostingRegressor\n",
    "from sklearn.model_selection import RepeatedKFold\n",
    "from sklearn.linear_model import Lasso\n",
    "import warnings\n",
    "warnings.filterwarnings('ignore')"
   ]
  },
  {
   "cell_type": "markdown",
   "id": "0f2d1b76",
   "metadata": {},
   "source": [
    "# Import dataset"
   ]
  },
  {
   "cell_type": "code",
   "execution_count": null,
   "id": "b422a046",
   "metadata": {},
   "outputs": [],
   "source": [
    "df = pd.read_excel(\"DS - Assignment Part 1 data set.xlsx\")"
   ]
  },
  {
   "cell_type": "code",
   "execution_count": null,
   "id": "fdff3f38",
   "metadata": {},
   "outputs": [],
   "source": [
    "df.head()"
   ]
  },
  {
   "cell_type": "markdown",
   "id": "5d8037cd",
   "metadata": {},
   "source": [
    "###### Shape of the dataset"
   ]
  },
  {
   "cell_type": "code",
   "execution_count": null,
   "id": "2d495c34",
   "metadata": {},
   "outputs": [],
   "source": [
    "df.shape"
   ]
  },
  {
   "cell_type": "code",
   "execution_count": null,
   "id": "6c7f2acb",
   "metadata": {},
   "outputs": [],
   "source": [
    "min(df['latitude'])"
   ]
  },
  {
   "cell_type": "code",
   "execution_count": null,
   "id": "6144b792",
   "metadata": {},
   "outputs": [],
   "source": [
    "max(df['latitude'])"
   ]
  },
  {
   "cell_type": "markdown",
   "id": "038f4d56",
   "metadata": {},
   "source": [
    "###### Info about the data"
   ]
  },
  {
   "cell_type": "code",
   "execution_count": null,
   "id": "86c7751c",
   "metadata": {},
   "outputs": [],
   "source": [
    "df.info()"
   ]
  },
  {
   "cell_type": "markdown",
   "id": "955dda0a",
   "metadata": {},
   "source": [
    "###### Check null values"
   ]
  },
  {
   "cell_type": "code",
   "execution_count": null,
   "id": "64a9fb81",
   "metadata": {},
   "outputs": [],
   "source": [
    "df.isnull().sum()"
   ]
  },
  {
   "cell_type": "code",
   "execution_count": null,
   "id": "8b8ce63d",
   "metadata": {},
   "outputs": [],
   "source": [
    "df.columns[df.dtypes == 'object'].tolist()"
   ]
  },
  {
   "cell_type": "markdown",
   "id": "f0ef3fc3",
   "metadata": {},
   "source": [
    "###### Fill null values with median"
   ]
  },
  {
   "cell_type": "code",
   "execution_count": null,
   "id": "f2516f60",
   "metadata": {},
   "outputs": [],
   "source": [
    "for i in df:\n",
    "    df[i] = df[i].fillna(df[i].median())"
   ]
  },
  {
   "cell_type": "markdown",
   "id": "e0ffcfd0",
   "metadata": {},
   "source": [
    "###### Visualizing the correlation of features"
   ]
  },
  {
   "cell_type": "code",
   "execution_count": null,
   "id": "aee8a775",
   "metadata": {},
   "outputs": [],
   "source": [
    "fig, ax = plt.subplots(figsize=(10,10))         \n",
    "sns.heatmap(df.corr(), annot = True,ax=ax)\n",
    "plt.show()"
   ]
  },
  {
   "cell_type": "markdown",
   "id": "41c57ca2",
   "metadata": {},
   "source": [
    "###### Checking correlation with different features"
   ]
  },
  {
   "cell_type": "code",
   "execution_count": null,
   "id": "62f60898",
   "metadata": {},
   "outputs": [],
   "source": [
    "df.corr()"
   ]
  },
  {
   "cell_type": "code",
   "execution_count": null,
   "id": "b2c0b2b4",
   "metadata": {},
   "outputs": [],
   "source": [
    "df.head()"
   ]
  },
  {
   "cell_type": "markdown",
   "id": "5216eab3",
   "metadata": {},
   "source": [
    "###### Splitting the Transaction date column"
   ]
  },
  {
   "cell_type": "code",
   "execution_count": null,
   "id": "ec14463c",
   "metadata": {},
   "outputs": [],
   "source": [
    "def func(col):\n",
    "    l = []\n",
    "    for i in col:\n",
    "        i = str(i)\n",
    "        l.append(i.split(\".\")[0])\n",
    "    return l"
   ]
  },
  {
   "cell_type": "code",
   "execution_count": null,
   "id": "9b8ae427",
   "metadata": {},
   "outputs": [],
   "source": [
    "df['year'] = func(df[\"Transaction date\"])"
   ]
  },
  {
   "cell_type": "code",
   "execution_count": null,
   "id": "258a4e6a",
   "metadata": {},
   "outputs": [],
   "source": [
    "df['year'] = df['year'].astype('int64')"
   ]
  },
  {
   "cell_type": "code",
   "execution_count": null,
   "id": "14bb2f45",
   "metadata": {},
   "outputs": [],
   "source": [
    "df.head(2)"
   ]
  },
  {
   "cell_type": "code",
   "execution_count": null,
   "id": "3c7bfb1a",
   "metadata": {},
   "outputs": [],
   "source": [
    "fig, ax = plt.subplots(figsize=(10,10))         \n",
    "sns.heatmap(df.corr(), cmap = 'BrBG',\n",
    "            fmt = '.2f',\n",
    "            linewidths = 2,\n",
    "            annot = True,ax = ax)\n",
    "plt.show()"
   ]
  },
  {
   "cell_type": "code",
   "execution_count": null,
   "id": "87034414",
   "metadata": {},
   "outputs": [],
   "source": [
    "###### drop the transaction date column"
   ]
  },
  {
   "cell_type": "code",
   "execution_count": null,
   "id": "3dc533df",
   "metadata": {},
   "outputs": [],
   "source": [
    "df.drop('Transaction date',inplace = True,axis =1)"
   ]
  },
  {
   "cell_type": "code",
   "execution_count": null,
   "id": "5702c9f6",
   "metadata": {},
   "outputs": [],
   "source": [
    "df.describe().T"
   ]
  },
  {
   "cell_type": "code",
   "execution_count": null,
   "id": "0896f794",
   "metadata": {},
   "outputs": [],
   "source": [
    "for i in df.columns:\n",
    "    df[i] = df[i].fillna(df[i].mean())"
   ]
  },
  {
   "cell_type": "code",
   "execution_count": null,
   "id": "177acfbc",
   "metadata": {},
   "outputs": [],
   "source": [
    "new_df = df.dropna()"
   ]
  },
  {
   "cell_type": "code",
   "execution_count": null,
   "id": "dad68027",
   "metadata": {},
   "outputs": [],
   "source": [
    "new_df.head()"
   ]
  },
  {
   "cell_type": "code",
   "execution_count": null,
   "id": "28e59504",
   "metadata": {},
   "outputs": [],
   "source": [
    "new_df.isnull().sum()"
   ]
  },
  {
   "cell_type": "code",
   "execution_count": null,
   "id": "067b867b",
   "metadata": {},
   "outputs": [],
   "source": [
    "def plot_hist_box(data):\n",
    "    figure, axis = plt.subplots(1,2,figsize=(20, 10))\n",
    "    plt.suptitle(data.name)\n",
    "    axis[0].boxplot(data)\n",
    "    axis[1] = sns.distplot(data)\n",
    "    axis[1].lines[0].set_color('crimson')\n",
    "    plt.show()\n",
    "\n",
    "plot_hist_box(new_df['House price of unit area'])"
   ]
  },
  {
   "cell_type": "code",
   "execution_count": null,
   "id": "fac6654d",
   "metadata": {},
   "outputs": [],
   "source": [
    "plot_hist_box(new_df['House Age'])"
   ]
  },
  {
   "cell_type": "code",
   "execution_count": null,
   "id": "b0a856c2",
   "metadata": {},
   "outputs": [],
   "source": [
    "plot_hist_box(new_df['Distance from nearest Metro station (km)'])"
   ]
  },
  {
   "cell_type": "code",
   "execution_count": null,
   "id": "a1db9a95",
   "metadata": {},
   "outputs": [],
   "source": [
    "plot_hist_box(new_df['Number of convenience stores'])"
   ]
  },
  {
   "cell_type": "code",
   "execution_count": null,
   "id": "47d1fe8d",
   "metadata": {},
   "outputs": [],
   "source": [
    "plot_hist_box(new_df['Number of bedrooms'])"
   ]
  },
  {
   "cell_type": "code",
   "execution_count": null,
   "id": "bf0cac28",
   "metadata": {},
   "outputs": [],
   "source": [
    "plot_hist_box(new_df['year'])"
   ]
  },
  {
   "cell_type": "code",
   "execution_count": null,
   "id": "e8087436",
   "metadata": {},
   "outputs": [],
   "source": [
    "plot_hist_box(new_df['House size (sqft)'])"
   ]
  },
  {
   "cell_type": "markdown",
   "id": "fd36e3fb",
   "metadata": {},
   "source": [
    "### Outlier Handling"
   ]
  },
  {
   "cell_type": "code",
   "execution_count": null,
   "id": "258139a3",
   "metadata": {},
   "outputs": [],
   "source": [
    "new_df.head(2)"
   ]
  },
  {
   "cell_type": "code",
   "execution_count": null,
   "id": "fb51eaf8",
   "metadata": {},
   "outputs": [],
   "source": [
    "plt.boxplot(new_df['Distance from nearest Metro station (km)'])\n",
    "plt.show()"
   ]
  },
  {
   "cell_type": "code",
   "execution_count": null,
   "id": "b0588dce",
   "metadata": {},
   "outputs": [],
   "source": [
    "x = new_df[new_df['Distance from nearest Metro station (km)'] < 4500]['Distance from nearest Metro station (km)'].median()"
   ]
  },
  {
   "cell_type": "code",
   "execution_count": null,
   "id": "214c946b",
   "metadata": {},
   "outputs": [],
   "source": [
    "x"
   ]
  },
  {
   "cell_type": "code",
   "execution_count": null,
   "id": "831ba94e",
   "metadata": {},
   "outputs": [],
   "source": [
    "a = new_df[new_df['Distance from nearest Metro station (km)'] > 4500]['Distance from nearest Metro station (km)'].index"
   ]
  },
  {
   "cell_type": "code",
   "execution_count": null,
   "id": "0a28f457",
   "metadata": {},
   "outputs": [],
   "source": [
    "for i in a:\n",
    "    new_df['Distance from nearest Metro station (km)'][i] = x"
   ]
  },
  {
   "cell_type": "code",
   "execution_count": null,
   "id": "0d2f07ce",
   "metadata": {},
   "outputs": [],
   "source": [
    "df.head()"
   ]
  },
  {
   "cell_type": "code",
   "execution_count": null,
   "id": "cbcde3ac",
   "metadata": {},
   "outputs": [],
   "source": [
    "plt.boxplot(new_df['Distance from nearest Metro station (km)'])\n",
    "plt.show()"
   ]
  },
  {
   "cell_type": "code",
   "execution_count": null,
   "id": "49bbdbf8",
   "metadata": {},
   "outputs": [],
   "source": [
    "new_df[new_df['Distance from nearest Metro station (km)'] > 4500]['Distance from nearest Metro station (km)']"
   ]
  },
  {
   "cell_type": "code",
   "execution_count": null,
   "id": "3e692b93",
   "metadata": {},
   "outputs": [],
   "source": []
  },
  {
   "cell_type": "code",
   "execution_count": null,
   "id": "976298f4",
   "metadata": {},
   "outputs": [],
   "source": [
    "plt.boxplot(new_df['House price of unit area'])\n",
    "plt.show()"
   ]
  },
  {
   "cell_type": "code",
   "execution_count": null,
   "id": "5f223853",
   "metadata": {},
   "outputs": [],
   "source": [
    "x = new_df[new_df['House price of unit area'] < 80]['House price of unit area'].median()"
   ]
  },
  {
   "cell_type": "code",
   "execution_count": null,
   "id": "167b9292",
   "metadata": {},
   "outputs": [],
   "source": [
    "x"
   ]
  },
  {
   "cell_type": "code",
   "execution_count": null,
   "id": "777b266c",
   "metadata": {},
   "outputs": [],
   "source": [
    "a = new_df[new_df['House price of unit area'] > 80]['House price of unit area'].index"
   ]
  },
  {
   "cell_type": "code",
   "execution_count": null,
   "id": "e39f4ca5",
   "metadata": {},
   "outputs": [],
   "source": [
    "for i in a:\n",
    "    new_df['House price of unit area'][i] = x"
   ]
  },
  {
   "cell_type": "code",
   "execution_count": null,
   "id": "953f3fb4",
   "metadata": {},
   "outputs": [],
   "source": [
    "plt.boxplot(new_df['House price of unit area'])\n",
    "plt.show()"
   ]
  },
  {
   "cell_type": "code",
   "execution_count": null,
   "id": "a93391e3",
   "metadata": {},
   "outputs": [],
   "source": [
    "x = new_df[new_df['year']==2013]['year'].value_counts()\n",
    "x"
   ]
  },
  {
   "cell_type": "code",
   "execution_count": null,
   "id": "1f2f8296",
   "metadata": {},
   "outputs": [],
   "source": [
    "y = new_df[new_df['year']==2012]['year'].value_counts()"
   ]
  },
  {
   "cell_type": "code",
   "execution_count": null,
   "id": "5a44d5d3",
   "metadata": {},
   "outputs": [],
   "source": [
    "y"
   ]
  },
  {
   "cell_type": "markdown",
   "id": "3a3d4987",
   "metadata": {},
   "source": [
    "###### Visualizing the different features of columns of the dataset"
   ]
  },
  {
   "cell_type": "code",
   "execution_count": null,
   "id": "9b59baf8",
   "metadata": {},
   "outputs": [],
   "source": [
    "year = [2012,2013]\n",
    "count  = [126,288]"
   ]
  },
  {
   "cell_type": "code",
   "execution_count": null,
   "id": "6b2cc52a",
   "metadata": {},
   "outputs": [],
   "source": [
    "plt.bar(year,count,width = 0.1,color= 'red')\n",
    "plt.show()"
   ]
  },
  {
   "cell_type": "code",
   "execution_count": null,
   "id": "066f6e09",
   "metadata": {},
   "outputs": [],
   "source": [
    "plt.hist(new_df['House price of unit area'],color=\"green\")\n",
    "plt.show()"
   ]
  },
  {
   "cell_type": "code",
   "execution_count": null,
   "id": "da2833e1",
   "metadata": {},
   "outputs": [],
   "source": [
    "sns.distplot(new_df['House price of unit area'],color=\"blue\")\n",
    "plt.show()"
   ]
  },
  {
   "cell_type": "code",
   "execution_count": null,
   "id": "0f66cdb7",
   "metadata": {},
   "outputs": [],
   "source": [
    "new_df.columns"
   ]
  },
  {
   "cell_type": "code",
   "execution_count": null,
   "id": "5ea94a78",
   "metadata": {},
   "outputs": [],
   "source": [
    "## Histograms of all the features"
   ]
  },
  {
   "cell_type": "code",
   "execution_count": null,
   "id": "4133da1e",
   "metadata": {},
   "outputs": [],
   "source": [
    "new_df.hist(bins=50, figsize=(20,15))\n",
    "plt.show()"
   ]
  },
  {
   "cell_type": "code",
   "execution_count": null,
   "id": "3bf85c0f",
   "metadata": {},
   "outputs": [],
   "source": [
    "## Scatter plot of the House age vs House price"
   ]
  },
  {
   "cell_type": "code",
   "execution_count": null,
   "id": "72c1a765",
   "metadata": {},
   "outputs": [],
   "source": [
    "plt.figure(figsize = (5,5))\n",
    "sns.scatterplot(new_df['House Age'],new_df['House price of unit area'])\n",
    "plt.show()\n",
    "\n",
    "# it shows that majority of the house age is between 15 -20 whose house price is 11-30"
   ]
  },
  {
   "cell_type": "code",
   "execution_count": null,
   "id": "81a7123e",
   "metadata": {},
   "outputs": [],
   "source": [
    "plt.figure(figsize = (5,5))\n",
    "sns.scatterplot(new_df['Distance from nearest Metro station (km)'],new_df['House price of unit area'])\n",
    "plt.show()\n",
    "\n",
    "## It shows that majority of the house price is between 30 - 60 and is within the distance of 1000 km"
   ]
  },
  {
   "cell_type": "code",
   "execution_count": null,
   "id": "b0e4435d",
   "metadata": {},
   "outputs": [],
   "source": [
    "plt.figure(figsize = (5,5))\n",
    "sns.scatterplot(new_df['Number of convenience stores'],new_df['House price of unit area'])\n",
    "plt.show()"
   ]
  },
  {
   "cell_type": "code",
   "execution_count": null,
   "id": "3d6551b1",
   "metadata": {},
   "outputs": [],
   "source": [
    "plt.figure(figsize = (5,5))\n",
    "sns.scatterplot(new_df['year'],new_df['House price of unit area'])\n",
    "plt.show()"
   ]
  },
  {
   "cell_type": "code",
   "execution_count": null,
   "id": "108061cc",
   "metadata": {},
   "outputs": [],
   "source": [
    "plt.figure(figsize = (5,5))\n",
    "sns.scatterplot(new_df['House size (sqft)'],new_df['House price of unit area'])\n",
    "plt.show()"
   ]
  },
  {
   "cell_type": "code",
   "execution_count": null,
   "id": "798fc1d7",
   "metadata": {},
   "outputs": [],
   "source": [
    "plt.figure(figsize = (5,5))\n",
    "sns.barplot(new_df['Number of bedrooms'],new_df['House price of unit area'])\n",
    "plt.show()"
   ]
  },
  {
   "cell_type": "code",
   "execution_count": null,
   "id": "11029e9e",
   "metadata": {},
   "outputs": [],
   "source": [
    "plt.figure(figsize = (5,5))\n",
    "sns.barplot(new_df['Number of bedrooms'],new_df['year'])\n",
    "plt.show()"
   ]
  },
  {
   "cell_type": "code",
   "execution_count": null,
   "id": "abd5b657",
   "metadata": {},
   "outputs": [],
   "source": [
    "plt.figure(figsize = (15,15))\n",
    "sns.pairplot(new_df,size = 2.5)\n",
    "plt.show()"
   ]
  },
  {
   "cell_type": "code",
   "execution_count": null,
   "id": "c412917f",
   "metadata": {},
   "outputs": [],
   "source": [
    "new_df.head(1)"
   ]
  },
  {
   "cell_type": "code",
   "execution_count": null,
   "id": "615d4c78",
   "metadata": {},
   "outputs": [],
   "source": [
    "sns.distplot(new_df['Number of bedrooms'] , fit=norm);\n",
    "\n",
    "(mu, sigma) = norm.fit(new_df['House price of unit area'])\n",
    "plt.legend(['Normal dist. ($\\mu=$ {:.2f} and $\\sigma=$ {:.2f} )'.format(mu, sigma)],\n",
    "            loc='best')\n",
    "plt.ylabel('Frequency')\n",
    "plt.title('Number of bedrooms')\n",
    "plt.show();"
   ]
  },
  {
   "cell_type": "code",
   "execution_count": null,
   "id": "c89a1761",
   "metadata": {},
   "outputs": [],
   "source": []
  },
  {
   "cell_type": "code",
   "execution_count": null,
   "id": "c128a141",
   "metadata": {},
   "outputs": [],
   "source": []
  },
  {
   "cell_type": "markdown",
   "id": "524da9bb",
   "metadata": {},
   "source": [
    "# Model Preparation"
   ]
  },
  {
   "cell_type": "markdown",
   "id": "4e7263e9",
   "metadata": {},
   "source": [
    "###### Splitting the data into the training and testing set"
   ]
  },
  {
   "cell_type": "code",
   "execution_count": null,
   "id": "88c1e022",
   "metadata": {},
   "outputs": [],
   "source": [
    "X = new_df.drop(['House price of unit area'], axis=1)\n",
    "Y = new_df['House price of unit area']\n",
    " \n",
    "# Split the training set into\n",
    "# training and validation set\n",
    "X_train, X_valid, Y_train, Y_valid = train_test_split(\n",
    "    X, Y, train_size=0.7, test_size=0.3, random_state=100)"
   ]
  },
  {
   "cell_type": "code",
   "execution_count": null,
   "id": "1f9c40bc",
   "metadata": {},
   "outputs": [],
   "source": []
  },
  {
   "cell_type": "markdown",
   "id": "91a7dcee",
   "metadata": {},
   "source": [
    "###### SVR model"
   ]
  },
  {
   "cell_type": "code",
   "execution_count": null,
   "id": "05264139",
   "metadata": {},
   "outputs": [],
   "source": [
    "model_SVR = svm.SVR()\n",
    "model_SVR.fit(X_train,Y_train)\n",
    "Y_pred = model_SVR.predict(X_valid)\n",
    " \n",
    "print(mean_absolute_percentage_error(Y_valid, Y_pred))"
   ]
  },
  {
   "cell_type": "code",
   "execution_count": null,
   "id": "cafcd502",
   "metadata": {},
   "outputs": [],
   "source": [
    "Y_pred"
   ]
  },
  {
   "cell_type": "code",
   "execution_count": null,
   "id": "fa9a0fbc",
   "metadata": {},
   "outputs": [],
   "source": [
    "model_SVR.predict([[13.6,492.23130,5,24.96515,121.53737,1,443,2013]])"
   ]
  },
  {
   "cell_type": "code",
   "execution_count": null,
   "id": "21181839",
   "metadata": {},
   "outputs": [],
   "source": [
    "sns.regplot(Y_valid,preds_test)"
   ]
  },
  {
   "cell_type": "code",
   "execution_count": null,
   "id": "36852864",
   "metadata": {},
   "outputs": [],
   "source": []
  },
  {
   "cell_type": "markdown",
   "id": "43332219",
   "metadata": {},
   "source": [
    "##### RandomForestRegressor"
   ]
  },
  {
   "cell_type": "code",
   "execution_count": null,
   "id": "8b1e6273",
   "metadata": {},
   "outputs": [],
   "source": [
    "model_RFR = RandomForestRegressor(n_estimators=10)\n",
    "model_RFR.fit(X_train, Y_train)\n",
    "Y_pred = model_RFR.predict(X_valid)\n",
    " \n",
    "mean_absolute_percentage_error(Y_valid, Y_pred)"
   ]
  },
  {
   "cell_type": "code",
   "execution_count": null,
   "id": "08bc670c",
   "metadata": {},
   "outputs": [],
   "source": [
    "model_RFR.predict([[13.6,492.23130,5,24.96515,121.53737,1,443,2013]])"
   ]
  },
  {
   "cell_type": "code",
   "execution_count": null,
   "id": "f1ee4d6e",
   "metadata": {},
   "outputs": [],
   "source": [
    "sns.regplot(Y_valid,preds_test)"
   ]
  },
  {
   "cell_type": "code",
   "execution_count": null,
   "id": "bb6ca011",
   "metadata": {},
   "outputs": [],
   "source": []
  },
  {
   "cell_type": "markdown",
   "id": "2c495a48",
   "metadata": {},
   "source": [
    "##### Linear Regression"
   ]
  },
  {
   "cell_type": "code",
   "execution_count": null,
   "id": "ee3cf782",
   "metadata": {},
   "outputs": [],
   "source": [
    "model_LR = LinearRegression()\n",
    "model_LR.fit(X_train, Y_train)\n",
    "Y_pred = model_LR.predict(X_valid)\n",
    " \n",
    "print(mean_absolute_percentage_error(Y_valid, Y_pred))"
   ]
  },
  {
   "cell_type": "code",
   "execution_count": null,
   "id": "d4ad1319",
   "metadata": {},
   "outputs": [],
   "source": [
    "sns.regplot(Y_valid,Y_pred)"
   ]
  },
  {
   "cell_type": "markdown",
   "id": "763c8066",
   "metadata": {},
   "source": [
    "##### Lasso Regression"
   ]
  },
  {
   "cell_type": "code",
   "execution_count": null,
   "id": "5a2bd7a0",
   "metadata": {},
   "outputs": [],
   "source": [
    "lasso = Lasso(alpha= 0.0002, max_iter=50000)\n",
    "lasso.fit(X_train, Y_train)\n",
    "\n",
    "preds_train = lasso.predict(X_train)\n",
    "preds_test = lasso.predict(X_valid)\n",
    "\n",
    "mean_absolute_error(Y_valid, preds_test) "
   ]
  },
  {
   "cell_type": "code",
   "execution_count": null,
   "id": "9c0c7225",
   "metadata": {},
   "outputs": [],
   "source": [
    "preds_test"
   ]
  },
  {
   "cell_type": "code",
   "execution_count": null,
   "id": "76cdfa73",
   "metadata": {},
   "outputs": [],
   "source": [
    "lasso.predict([[13.6,492.23130,5,24.96515,121.53737,1,443,2013]])"
   ]
  },
  {
   "cell_type": "code",
   "execution_count": null,
   "id": "223cf95e",
   "metadata": {},
   "outputs": [],
   "source": [
    "sns.regplot(Y_valid,preds_test)"
   ]
  },
  {
   "cell_type": "code",
   "execution_count": null,
   "id": "9937116d",
   "metadata": {},
   "outputs": [],
   "source": []
  },
  {
   "cell_type": "markdown",
   "id": "65d25aa7",
   "metadata": {},
   "source": [
    "###### XGBRegressor"
   ]
  },
  {
   "cell_type": "code",
   "execution_count": null,
   "id": "bb29bb88",
   "metadata": {},
   "outputs": [],
   "source": [
    "xgboost = XGBRegressor(n_estimators = 25)\n",
    "\n",
    "xgboost.fit(X_train, Y_train)\n",
    "\n",
    "preds_test = xgboost.predict(X_valid)\n",
    "\n",
    "mean_absolute_error(Y_valid, preds_test)"
   ]
  },
  {
   "cell_type": "code",
   "execution_count": null,
   "id": "e382e3e9",
   "metadata": {},
   "outputs": [],
   "source": [
    "sns.regplot(Y_valid,preds_test)"
   ]
  },
  {
   "cell_type": "markdown",
   "id": "53be7e56",
   "metadata": {},
   "source": [
    "##### GradientBoostingRegressor"
   ]
  },
  {
   "cell_type": "code",
   "execution_count": null,
   "id": "bfcdf407",
   "metadata": {},
   "outputs": [],
   "source": [
    "GBR = GradientBoostingRegressor(n_estimators=200, learning_rate=0.1, max_depth=5, random_state=42)"
   ]
  },
  {
   "cell_type": "code",
   "execution_count": null,
   "id": "a041d5be",
   "metadata": {},
   "outputs": [],
   "source": [
    "GBR.fit(X_train,Y_train)\n",
    "\n",
    "preds_test = GBR.predict(X_valid)\n",
    "mean_absolute_error(Y_valid, preds_test)"
   ]
  },
  {
   "cell_type": "code",
   "execution_count": null,
   "id": "b1b97b2b",
   "metadata": {},
   "outputs": [],
   "source": [
    "print(GBR.predict([[13.6,492.23130,5,24.96515,121.53737,1,443,2013]]))"
   ]
  },
  {
   "cell_type": "code",
   "execution_count": null,
   "id": "a8311250",
   "metadata": {},
   "outputs": [],
   "source": [
    "sns.regplot(Y_valid,preds_test)"
   ]
  },
  {
   "cell_type": "markdown",
   "id": "f4a1ffee",
   "metadata": {},
   "source": [
    "#####   DecisionTreeRegressor"
   ]
  },
  {
   "cell_type": "code",
   "execution_count": null,
   "id": "3c3fd3db",
   "metadata": {},
   "outputs": [],
   "source": [
    "DTR = DecisionTreeRegressor(criterion='absolute_error',\n",
    "    splitter='best',\n",
    "    max_depth=25,\n",
    "    min_samples_split=20,\n",
    "    min_samples_leaf=1,\n",
    "    min_weight_fraction_leaf=0.0,\n",
    "    max_features= \"sqrt\",\n",
    "    random_state=42,\n",
    "    max_leaf_nodes=10,\n",
    "    min_impurity_decrease=0.001,\n",
    "    ccp_alpha=0.001)"
   ]
  },
  {
   "cell_type": "code",
   "execution_count": null,
   "id": "73bde123",
   "metadata": {},
   "outputs": [],
   "source": [
    "DTR.fit(X_train,Y_train)\n",
    "preds_test = DTR.predict(X_valid)\n",
    "mean_absolute_error(Y_valid, preds_test)"
   ]
  },
  {
   "cell_type": "code",
   "execution_count": null,
   "id": "1f26c3e1",
   "metadata": {},
   "outputs": [],
   "source": [
    "print(DTR.predict([[13.6,492.23130,5,24.96515,121.53737,1,443,2013]]))"
   ]
  },
  {
   "cell_type": "code",
   "execution_count": null,
   "id": "4bfe17e9",
   "metadata": {},
   "outputs": [],
   "source": [
    "sns.regplot(Y_valid,preds_test)"
   ]
  },
  {
   "cell_type": "code",
   "execution_count": null,
   "id": "98b4e09a",
   "metadata": {},
   "outputs": [],
   "source": []
  },
  {
   "cell_type": "code",
   "execution_count": null,
   "id": "bfd24927",
   "metadata": {},
   "outputs": [],
   "source": []
  },
  {
   "cell_type": "markdown",
   "id": "44ad9ede",
   "metadata": {},
   "source": [
    "### Drawbacks"
   ]
  },
  {
   "cell_type": "markdown",
   "id": "2bc06505",
   "metadata": {},
   "source": [
    "Random Forest is intrinsically suited for multiclass problems, while SVM is intrinsically two-class. For multiclass problem you will need to reduce it into multiple binary classification problems. Random Forest works well with a mixture of numerical and categorical features"
   ]
  },
  {
   "cell_type": "markdown",
   "id": "7202f9ca",
   "metadata": {},
   "source": [
    "When there are large number of features with less data-sets(with low noise), linear regressions may outperform Decision trees/random forests. \n",
    "In general cases, Decision trees will be having better average accuracy. \n",
    "For categorical independent variables, random forest and decision trees are better than linear regression.\n",
    "But here in this dataset ,there are not too much features,so random forest are performing better than linear regression"
   ]
  },
  {
   "cell_type": "code",
   "execution_count": null,
   "id": "45069237",
   "metadata": {},
   "outputs": [],
   "source": []
  },
  {
   "cell_type": "code",
   "execution_count": null,
   "id": "cfd9620a",
   "metadata": {},
   "outputs": [],
   "source": []
  },
  {
   "cell_type": "markdown",
   "id": "276229b6",
   "metadata": {},
   "source": [
    "#### Best Model "
   ]
  },
  {
   "cell_type": "markdown",
   "id": "792da46c",
   "metadata": {},
   "source": [
    " The least  error is obtained in  RandomForestRegressor"
   ]
  },
  {
   "cell_type": "code",
   "execution_count": null,
   "id": "d3158b62",
   "metadata": {},
   "outputs": [],
   "source": []
  },
  {
   "cell_type": "code",
   "execution_count": null,
   "id": "cf4ad32a",
   "metadata": {},
   "outputs": [],
   "source": []
  },
  {
   "cell_type": "markdown",
   "id": "8947b8ae",
   "metadata": {},
   "source": [
    "### Building a  predictive system"
   ]
  },
  {
   "cell_type": "code",
   "execution_count": null,
   "id": "35f01c9b",
   "metadata": {},
   "outputs": [],
   "source": [
    "def model_name(name):\n",
    "    name.fit(X_train,Y_train)\n",
    "    preds_test = name.predict(X_valid)\n",
    "    mean_absolute_error(Y_valid, preds_test)\n",
    "    House_age = float(input(\"House Age:,\"))\n",
    "    Distance=  float(input((\"Distance from nearest Metro station (km):\")))\n",
    "    stores = float(input((\"Number of convenience stores:\",)))\n",
    "    latitude = float(input((\"latitude:\",)))\n",
    "    longitutde = float(input((\"longititude:\",)))\n",
    "    bedrooms = float(input(\"Number of bedrooms:\",))\n",
    "    House_size =  float(input(\"House size (sqft):\",))\n",
    "    year = float(input('year:,'))\n",
    "    \n",
    "    return name.predict([[House_age,Distance,stores,latitude,longitutde,bedrooms,House_size,year]])"
   ]
  },
  {
   "cell_type": "code",
   "execution_count": null,
   "id": "d1fa7146",
   "metadata": {},
   "outputs": [],
   "source": [
    "model_name(GBR)"
   ]
  },
  {
   "cell_type": "code",
   "execution_count": null,
   "id": "8c5b4bf2",
   "metadata": {},
   "outputs": [],
   "source": []
  },
  {
   "cell_type": "markdown",
   "id": "aafb35ff",
   "metadata": {},
   "source": [
    "# Project Completed By - Swetanshu Pandey"
   ]
  },
  {
   "cell_type": "code",
   "execution_count": null,
   "id": "2dede413",
   "metadata": {},
   "outputs": [],
   "source": []
  }
 ],
 "metadata": {
  "kernelspec": {
   "display_name": "Python 3 (ipykernel)",
   "language": "python",
   "name": "python3"
  },
  "language_info": {
   "codemirror_mode": {
    "name": "ipython",
    "version": 3
   },
   "file_extension": ".py",
   "mimetype": "text/x-python",
   "name": "python",
   "nbconvert_exporter": "python",
   "pygments_lexer": "ipython3",
   "version": "3.9.12"
  }
 },
 "nbformat": 4,
 "nbformat_minor": 5
}
